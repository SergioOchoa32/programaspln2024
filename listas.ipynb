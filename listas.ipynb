{
 "cells": [
  {
   "cell_type": "markdown",
   "metadata": {},
   "source": [
    "#### Uso de listas en python y funciones para interactuar con ellas"
   ]
  },
  {
   "cell_type": "code",
   "execution_count": null,
   "metadata": {},
   "outputs": [],
   "source": [
    "#Lista principal\n",
    "dias_laborales=[\"Lunes\",\"Martes\",\"Miercoles\",\"Jueves\",\"Viernes\"]\n",
    "print(\"La semana laboral: \", dias_laborales)"
   ]
  },
  {
   "cell_type": "code",
   "execution_count": null,
   "metadata": {},
   "outputs": [],
   "source": [
    "#Imprimir el dato en la posicion 0\n",
    "print(\"Dia 1: \", dias_laborales[0])"
   ]
  },
  {
   "cell_type": "code",
   "execution_count": null,
   "metadata": {},
   "outputs": [],
   "source": [
    "#Cambiar el dato en la posicion 4 por sabado\n",
    "dias_laborales[4]=\"Sabado\"\n",
    "print(\"semana laboral\", dias_laborales)"
   ]
  },
  {
   "cell_type": "code",
   "execution_count": null,
   "metadata": {},
   "outputs": [],
   "source": [
    "#Longitud de la lista\n",
    "long= len(dias_laborales)\n",
    "print(\"la longitud es: \", long)"
   ]
  },
  {
   "cell_type": "code",
   "execution_count": null,
   "metadata": {},
   "outputs": [],
   "source": [
    "#Posicion del dato miercoles\n",
    "pos= dias_laborales.index(\"Miercoles\")\n",
    "print(\"La posicion de miercoles es: \",pos)"
   ]
  },
  {
   "cell_type": "code",
   "execution_count": null,
   "metadata": {},
   "outputs": [],
   "source": [
    "#Agregar un dato al final de la lista\n",
    "dias_laborales.append(\"Sabado\")\n",
    "print(\"Semana laboral: \", dias_laborales)"
   ]
  },
  {
   "cell_type": "code",
   "execution_count": null,
   "metadata": {},
   "outputs": [],
   "source": [
    "#Borrar un dato en la lista\n",
    "del dias_laborales[4]\n",
    "print(\"Semana laboral: \", dias_laborales)"
   ]
  }
 ],
 "metadata": {
  "language_info": {
   "name": "python"
  }
 },
 "nbformat": 4,
 "nbformat_minor": 2
}
