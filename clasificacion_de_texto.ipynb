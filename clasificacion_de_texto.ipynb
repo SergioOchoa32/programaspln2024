{
 "cells": [
  {
   "cell_type": "markdown",
   "metadata": {},
   "source": [
    "### 19/02/2024"
   ]
  },
  {
   "cell_type": "code",
   "execution_count": null,
   "metadata": {},
   "outputs": [],
   "source": [
    "\n",
    "import os\n",
    "carpeta_nombre=\"6b\\\\\"\n",
    "archivo_nombre=\"texto.txt\"\n",
    "\n",
    "\n"
   ]
  },
  {
   "cell_type": "code",
   "execution_count": null,
   "metadata": {},
   "outputs": [],
   "source": [
    "#Separa las palabras y las sortea en orden\n",
    "import time\n",
    "archivo_nombre=\"texto.txt\"\n",
    "with open(archivo_nombre,\"r\") as archivo:\n",
    "    texto= archivo.read()\n",
    "palabras_lista= texto.split()\n",
    "palabras_lista.sort()\n",
    "for palabra in palabras_lista:\n",
    "    print(palabra)\n",
    "    time.sleep(.5)"
   ]
  },
  {
   "cell_type": "code",
   "execution_count": null,
   "metadata": {},
   "outputs": [],
   "source": [
    "#programa que separa los simbolos de las palabras\n",
    "archivo_nombre=\"texto.txt\"\n",
    "with open(archivo_nombre,\"r\") as archivo:\n",
    "    texto= archivo.read()\n",
    "\n",
    "simbolos=[\"(\",\")\",\",\",\".\",\";\",\":\",\"\\\"\"]\n",
    "\n",
    "for simbolo in simbolos:\n",
    "    texto=texto.replace(simbolo,\" \"+ simbolo + \" \")\n",
    "\n",
    "palabras_lista=texto.split()\n",
    "palabras_lista.sort()\n",
    "for palabra in palabras_lista:\n",
    "    print(palabra)\n",
    "    time.sleep(.2)"
   ]
  },
  {
   "cell_type": "markdown",
   "metadata": {},
   "source": [
    "### Expresion regular\n",
    "#### tipos de texto y de orden\n"
   ]
  },
  {
   "cell_type": "code",
   "execution_count": null,
   "metadata": {},
   "outputs": [],
   "source": [
    "#buscar cadena de texto e imprimirla\n",
    "import re\n",
    "archivo_nombre=\"texto.txt\"\n",
    "with open(archivo_nombre,\"r\") as archivo:\n",
    "    texto= archivo.read()\n",
    "expresion_reg=re.compile(r\"hola*\")\n",
    "resultado_busq=expresion_reg.search(texto)\n",
    "\n",
    "for resultado in resultado_busq:\n",
    "    print(resultado.group(0))"
   ]
  },
  {
   "cell_type": "code",
   "execution_count": null,
   "metadata": {},
   "outputs": [],
   "source": [
    "import re\n",
    "cont=0\n",
    "archivo_nombre=\"texto.txt\"\n",
    "with open(archivo_nombre,\"r\") as archivo:\n",
    "    texto= archivo.read()\n",
    "expresion_reg=re.compile(r\"hola*\")#el asterisco\n",
    "resultado_busq=expresion_reg.finditer(texto)\n",
    "\n",
    "for resultado in resultado_busq:\n",
    "    print(resultado.group(0))\n",
    "    cont +=1\n",
    "    \n",
    "print(f\"hay {cont} palabras\")"
   ]
  },
  {
   "cell_type": "code",
   "execution_count": 3,
   "metadata": {},
   "outputs": [],
   "source": [
    "import re\n",
    "archivo_nombre=\"texto.txt\"\n",
    "with open(archivo_nombre,\"r\") as archivo:\n",
    "    texto= archivo.read()\n",
    "expresion_regular=re.compile(r\"M[eéa][xr]ic?[ao](nos)?\")\n",
    "resultados_busqueda=expresion_regular.finditer(texto)\n",
    "for resultado in resultados_busqueda:\n",
    "    print(resultado.group(0))"
   ]
  }
 ],
 "metadata": {
  "kernelspec": {
   "display_name": "Python 3",
   "language": "python",
   "name": "python3"
  },
  "language_info": {
   "codemirror_mode": {
    "name": "ipython",
    "version": 3
   },
   "file_extension": ".py",
   "mimetype": "text/x-python",
   "name": "python",
   "nbconvert_exporter": "python",
   "pygments_lexer": "ipython3",
   "version": "3.12.1"
  }
 },
 "nbformat": 4,
 "nbformat_minor": 2
}
