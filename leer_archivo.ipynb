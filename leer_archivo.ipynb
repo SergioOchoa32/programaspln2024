{
 "cells": [
  {
   "cell_type": "markdown",
   "metadata": {},
   "source": [
    "#### Acceder a un archivo de texto"
   ]
  },
  {
   "cell_type": "code",
   "execution_count": 36,
   "metadata": {},
   "outputs": [],
   "source": [
    "#Accedemos al archivo txt\n",
    "archivo_nombre= \"texto1.txt\"\n",
    "with open (archivo_nombre, \"r\") as archivo:\n",
    "    lineas_lista= archivo.readlines()\n"
   ]
  },
  {
   "cell_type": "code",
   "execution_count": null,
   "metadata": {},
   "outputs": [],
   "source": [
    "#Imprimir el texto en una linea\n",
    "print(lineas_lista)"
   ]
  },
  {
   "cell_type": "code",
   "execution_count": null,
   "metadata": {},
   "outputs": [],
   "source": [
    "#Imprimir separados por lineas o parrafos\n",
    "num_linea=1\n",
    "for linea in lineas_lista:\n",
    "    print(\"Linea\",num_linea,\":\", linea)\n",
    "    num_linea= num_linea + 1"
   ]
  },
  {
   "cell_type": "code",
   "execution_count": null,
   "metadata": {},
   "outputs": [],
   "source": [
    "#Eliminar las lineas vacias\n",
    "num_linea=1\n",
    "for linea in lineas_lista:\n",
    "    if linea.strip() == \"\":\n",
    "        continue\n",
    "    print(\"Linea\",num_linea,\":\", linea)\n",
    "    num_linea= num_linea + 1"
   ]
  },
  {
   "cell_type": "code",
   "execution_count": null,
   "metadata": {},
   "outputs": [],
   "source": [
    "num_vacias = 0\n",
    "num_linea = 1\n",
    "\n",
    "for linea in lineas_lista:\n",
    "    if linea.strip() == \"\":\n",
    "        num_vacias += 1\n",
    "        continue\n",
    "    print(\"Linea\", num_linea, \":\", linea)\n",
    "    num_linea += 1\n",
    "\n",
    "print(\"\\n\")\n",
    "print(\"La cantidad de lineas es: \", num_linea - 1)\n",
    "print(\"\\n\")\n",
    "print(\"La cantidad de lineas vacias es: \", num_vacias)"
   ]
  },
  {
   "cell_type": "code",
   "execution_count": null,
   "metadata": {},
   "outputs": [],
   "source": [
    "import os\n",
    "carpeta_nombre=\"oswaldo\"\n",
    "archivos_lista=os.listdir(carpeta_nombre)\n",
    "for archivo_nombre in archivos_lista:\n",
    "    print(archivo_nombre)"
   ]
  }
 ],
 "metadata": {
  "kernelspec": {
   "display_name": "Python 3",
   "language": "python",
   "name": "python3"
  },
  "language_info": {
   "codemirror_mode": {
    "name": "ipython",
    "version": 3
   },
   "file_extension": ".py",
   "mimetype": "text/x-python",
   "name": "python",
   "nbconvert_exporter": "python",
   "pygments_lexer": "ipython3",
   "version": "3.11.1"
  }
 },
 "nbformat": 4,
 "nbformat_minor": 2
}
